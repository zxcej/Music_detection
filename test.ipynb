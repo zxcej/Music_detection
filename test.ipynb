{
 "cells": [
  {
   "cell_type": "code",
   "execution_count": 3,
   "outputs": [
    {
     "data": {
      "text/plain": "Resolving data files:   0%|          | 0/15200 [00:00<?, ?it/s]",
      "application/vnd.jupyter.widget-view+json": {
       "version_major": 2,
       "version_minor": 0,
       "model_id": "f71f296b64aa43cb93599d05394d7515"
      }
     },
     "metadata": {},
     "output_type": "display_data"
    },
    {
     "name": "stderr",
     "output_type": "stream",
     "text": [
      "Found cached dataset imagefolder (C:/Users/x_zhu202/.cache/huggingface/datasets/imagefolder/default-2e5e000c34d1af59/0.0.0/37fbb85cc714a338bea574ac6c7d0b5be5aff46c1862c1989b20e0771199e93f)\n"
     ]
    }
   ],
   "source": [
    "from datasets import load_dataset\n",
    "from transformers import AutoModelForImageClassification\n",
    "\n",
    "ds = (load_dataset(\"imagefolder\", data_dir=\"homus_data\",split=\"train\",drop_labels=False).train_test_split(test_size=0.1))\n",
    "\n",
    "\n"
   ],
   "metadata": {
    "collapsed": false
   }
  },
  {
   "cell_type": "code",
   "execution_count": 4,
   "outputs": [
    {
     "data": {
      "text/plain": "DatasetDict({\n    train: Dataset({\n        features: ['image', 'label'],\n        num_rows: 13680\n    })\n    test: Dataset({\n        features: ['image', 'label'],\n        num_rows: 1520\n    })\n})"
     },
     "execution_count": 4,
     "metadata": {},
     "output_type": "execute_result"
    }
   ],
   "source": [
    "ds"
   ],
   "metadata": {
    "collapsed": false
   }
  },
  {
   "cell_type": "code",
   "execution_count": 5,
   "outputs": [
    {
     "data": {
      "text/plain": "['12-8-Time',\n '2-2-Time',\n '2-4-Time',\n '3-4-Time',\n '3-8-Time',\n '4-4-Time',\n '6-8-Time',\n '9-8-Time',\n 'Barline',\n 'C-Clef',\n 'Common-Time',\n 'Cut-Time',\n 'Dot',\n 'Double-Sharp',\n 'Eighth-Note',\n 'Eighth-Rest',\n 'F-Clef',\n 'Flat',\n 'G-Clef',\n 'Half-Note',\n 'Natural',\n 'Quarter-Note',\n 'Quarter-Rest',\n 'Sharp',\n 'Sixteenth-Note',\n 'Sixteenth-Rest',\n 'Sixty-Four-Note',\n 'Sixty-Four-Rest',\n 'Thirty-Two-Note',\n 'Thirty-Two-Rest',\n 'Whole-Half-Rest',\n 'Whole-Note']"
     },
     "execution_count": 5,
     "metadata": {},
     "output_type": "execute_result"
    }
   ],
   "source": [
    "label_names = ds[\"test\"].features[\"label\"].names\n",
    "label_names"
   ],
   "metadata": {
    "collapsed": false
   }
  },
  {
   "cell_type": "code",
   "execution_count": 8,
   "outputs": [
    {
     "name": "stdout",
     "output_type": "stream",
     "text": [
      "Sixty-Four-Note\n"
     ]
    },
    {
     "data": {
      "text/plain": "<PIL.PngImagePlugin.PngImageFile image mode=RGB size=96x192>",
      "image/png": "[encoded data removed]"
     },
     "execution_count": 8,
     "metadata": {},
     "output_type": "execute_result"
    }
   ],
   "source": [
    "from transformers import pipeline\n",
    "import torchvision.transforms as T\n",
    "from PIL import Image\n",
    "import matplotlib.pyplot as plt\n",
    "import numpy as np\n",
    "import torch\n",
    "\n",
    "image = ds[\"test\"][\"image\"][0]\n",
    "label = ds[\"test\"][\"label\"][0]\n",
    "print(label_names[label])\n",
    "image\n",
    "# orig_img = image\n",
    "# def plot(imgs, with_orig=True, row_title=None, **imshow_kwargs):\n",
    "#     if not isinstance(imgs[0], list):\n",
    "#         # Make a 2d grid even if there's just 1 row\n",
    "#         imgs = [imgs]\n",
    "#\n",
    "#     num_rows = len(imgs)\n",
    "#     num_cols = len(imgs[0]) + with_orig\n",
    "#     fig, axs = plt.subplots(nrows=num_rows, ncols=num_cols, squeeze=False)\n",
    "#     for row_idx, row in enumerate(imgs):\n",
    "#         row = [orig_img] + row if with_orig else row\n",
    "#         for col_idx, img in enumerate(row):\n",
    "#             ax = axs[row_idx, col_idx]\n",
    "#             ax.imshow(np.asarray(img), **imshow_kwargs)\n",
    "#             ax.set(xticklabels=[], yticklabels=[], xticks=[], yticks=[])\n",
    "#\n",
    "#     if with_orig:\n",
    "#         axs[0, 0].set(title='Original image')\n",
    "#         axs[0, 0].title.set_size(8)\n",
    "#     if row_title is not None:\n",
    "#         for row_idx in range(num_rows):\n",
    "#             axs[row_idx, 0].set(ylabel=row_title[row_idx])\n",
    "#\n",
    "#     plt.tight_layout()\n",
    "#\n",
    "# (top_left, top_right, bottom_left, bottom_right, center) = T.FiveCrop(size=(80, 34))(orig_img)\n",
    "# plot([top_left, top_right, bottom_left, bottom_right, center])"
   ],
   "metadata": {
    "collapsed": false
   }
  },
  {
   "cell_type": "code",
   "execution_count": 7,
   "outputs": [
    {
     "data": {
      "text/plain": "[{'score': 0.559884786605835, 'label': 'Sixty-Four-Note'},\n {'score': 0.34803545475006104, 'label': 'Thirty-Two-Note'},\n {'score': 0.01967209205031395, 'label': 'Sixteenth-Note'},\n {'score': 0.004806536249816418, 'label': 'C-Clef'},\n {'score': 0.0043877805583179, 'label': 'Eighth-Note'}]"
     },
     "execution_count": 7,
     "metadata": {},
     "output_type": "execute_result"
    }
   ],
   "source": [
    "classifier = pipeline(\"image-classification\", model=\"outputs_2\")\n",
    "classifier(image)"
   ],
   "metadata": {
    "collapsed": false
   }
  },
  {
   "cell_type": "code",
   "execution_count": 34,
   "outputs": [
    {
     "name": "stderr",
     "output_type": "stream",
     "text": [
      "C:\\Users\\x_zhu202\\anaconda3\\envs\\Music\\lib\\site-packages\\PIL\\Image.py:996: UserWarning: Palette images with Transparency expressed in bytes should be converted to RGBA images\n",
      "  warnings.warn(\n"
     ]
    },
    {
     "data": {
      "text/plain": "[{'score': 0.7565330862998962, 'label': 'Quarter-Note'},\n {'score': 0.03521042317152023, 'label': 'Barline'},\n {'score': 0.028660669922828674, 'label': 'Eighth-Note'},\n {'score': 0.026267195120453835, 'label': 'Half-Note'},\n {'score': 0.011642131954431534, 'label': 'C-Clef'}]"
     },
     "execution_count": 34,
     "metadata": {},
     "output_type": "execute_result"
    }
   ],
   "source": [
    "#read a png and pass to classifier\n",
    "\n",
    "sample = Image.open(\".\\\\Unseen_test\\\\sample.png\")\n",
    "classifier(sample)"
   ],
   "metadata": {
    "collapsed": false
   }
  },
  {
   "cell_type": "code",
   "execution_count": 18,
   "outputs": [
    {
     "data": {
      "text/plain": "<PIL.Image.Image image mode=P size=100x100>",
      "image/png": "[encoded data removed]"
     },
     "execution_count": 18,
     "metadata": {},
     "output_type": "execute_result"
    }
   ],
   "source": [
    "sample.resize((100,100))"
   ],
   "metadata": {
    "collapsed": false
   }
  },
  {
   "cell_type": "code",
   "execution_count": 35,
   "outputs": [
    {
     "data": {
      "text/plain": "[{'score': 0.8850137591362, 'label': 'C-Clef'},\n {'score': 0.013500595465302467, 'label': 'Sharp'},\n {'score': 0.007200691848993301, 'label': '12-8-Time'},\n {'score': 0.005304527468979359, 'label': 'Whole-Half-Rest'},\n {'score': 0.004796328488737345, 'label': 'G-Clef'}]"
     },
     "execution_count": 35,
     "metadata": {},
     "output_type": "execute_result"
    }
   ],
   "source": [
    "c_clef = Image.open(\".\\\\Unseen_test\\\\c-clef_sample.jpg\")\n",
    "classifier(c_clef)"
   ],
   "metadata": {
    "collapsed": false
   }
  },
  {
   "cell_type": "code",
   "execution_count": 19,
   "outputs": [
    {
     "data": {
      "text/plain": "<PIL.Image.Image image mode=RGB size=100x100>",
      "image/png": "[encoded data removed]"
     },
     "execution_count": 19,
     "metadata": {},
     "output_type": "execute_result"
    }
   ],
   "source": [
    "c_clef.resize((100,100))"
   ],
   "metadata": {
    "collapsed": false
   }
  },
  {
   "cell_type": "code",
   "execution_count": 24,
   "outputs": [
    {
     "data": {
      "text/plain": "[{'score': 0.9076569080352783, 'label': 'Half-Note'},\n {'score': 0.012020687572658062, 'label': 'Quarter-Note'},\n {'score': 0.011655572801828384, 'label': 'Barline'},\n {'score': 0.005738425068557262, 'label': 'Whole-Note'},\n {'score': 0.004891060292720795, 'label': 'Flat'}]"
     },
     "execution_count": 24,
     "metadata": {},
     "output_type": "execute_result"
    }
   ],
   "source": [
    "half_note = Image.open(\".\\\\Unseen_test\\\\half_note.png\")\n",
    "classifier(half_note)\n"
   ],
   "metadata": {
    "collapsed": false
   }
  },
  {
   "cell_type": "code",
   "execution_count": 25,
   "outputs": [
    {
     "data": {
      "text/plain": "<PIL.PngImagePlugin.PngImageFile image mode=P size=225x225>",
      "image/png": "[encoded data removed]"
     },
     "execution_count": 25,
     "metadata": {},
     "output_type": "execute_result"
    }
   ],
   "source": [
    "half_note"
   ],
   "metadata": {
    "collapsed": false
   }
  },
  {
   "cell_type": "code",
   "execution_count": 26,
   "outputs": [
    {
     "data": {
      "text/plain": "[{'score': 0.8796402812004089, 'label': 'F-Clef'},\n {'score': 0.018305785953998566, 'label': 'Common-Time'},\n {'score': 0.0076107243075966835, 'label': 'Sixty-Four-Rest'},\n {'score': 0.006926759146153927, 'label': 'Thirty-Two-Rest'},\n {'score': 0.0068232957273721695, 'label': 'Eighth-Rest'}]"
     },
     "execution_count": 26,
     "metadata": {},
     "output_type": "execute_result"
    }
   ],
   "source": [
    "f_clef = Image.open(\".\\\\Unseen_test\\\\f_clef.png\")\n",
    "classifier(f_clef)"
   ],
   "metadata": {
    "collapsed": false
   }
  },
  {
   "cell_type": "code",
   "execution_count": 27,
   "outputs": [
    {
     "data": {
      "text/plain": "<PIL.Image.Image image mode=L size=100x100>",
      "image/png": "[encoded data removed]"
     },
     "execution_count": 27,
     "metadata": {},
     "output_type": "execute_result"
    }
   ],
   "source": [
    "f_clef.resize((100,100))"
   ],
   "metadata": {
    "collapsed": false
   }
  }
 ],
 "metadata": {
  "kernelspec": {
   "display_name": "Python 3",
   "language": "python",
   "name": "python3"
  },
  "language_info": {
   "codemirror_mode": {
    "name": "ipython",
    "version": 2
   },
   "file_extension": ".py",
   "mimetype": "text/x-python",
   "name": "python",
   "nbconvert_exporter": "python",
   "pygments_lexer": "ipython2",
   "version": "2.7.6"
  }
 },
 "nbformat": 4,
 "nbformat_minor": 0
}
